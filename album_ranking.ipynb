{
  "nbformat": 4,
  "nbformat_minor": 0,
  "metadata": {
    "colab": {
      "name": "album_ranking.ipynb",
      "provenance": [],
      "collapsed_sections": [],
      "authorship_tag": "ABX9TyNiLC639e9LEqqaV6snQlHT",
      "include_colab_link": true
    },
    "kernelspec": {
      "name": "python3",
      "display_name": "Python 3"
    },
    "language_info": {
      "name": "python"
    }
  },
  "cells": [
    {
      "cell_type": "markdown",
      "metadata": {
        "id": "view-in-github",
        "colab_type": "text"
      },
      "source": [
        "<a href=\"https://colab.research.google.com/github/raskutti/the-strokes/blob/main/album_ranking.ipynb\" target=\"_parent\"><img src=\"https://colab.research.google.com/assets/colab-badge.svg\" alt=\"Open In Colab\"/></a>"
      ]
    },
    {
      "cell_type": "markdown",
      "source": [
        "# The Strokes Album Analysis"
      ],
      "metadata": {
        "id": "yiPq7cUb9ARP"
      }
    },
    {
      "cell_type": "markdown",
      "source": [
        "TLDR:\n",
        "\n",
        "- Is This It and The New Abnormal are standout albums by all metrics\n",
        "- Albums tend to be worse on Side B than Side a"
      ],
      "metadata": {
        "id": "mNrpuWAFYabL"
      }
    },
    {
      "cell_type": "markdown",
      "source": [
        "This colab analyzes album tracks from The Strokes, according to personal-preference song ratings.\n",
        "\n",
        "Songs are rated from 1 to 6 (integers, inclusive) based on personal taste, and these are used to determine trends and overall album ratings.\n",
        "\n",
        "**NOTE:** For simplicity and continuity, we assume that Is This It is a 12-track album, with New York City Cops as track 9 and When It Started as Track 10."
      ],
      "metadata": {
        "id": "MagkUxbA9C6z"
      }
    },
    {
      "cell_type": "code",
      "execution_count": 1,
      "metadata": {
        "id": "fu3YbB0R2v6q"
      },
      "outputs": [],
      "source": [
        "import pandas as pd\n",
        "import numpy as np\n",
        "import matplotlib.pyplot as plt\n",
        "import seaborn as sns\n",
        "from scipy import stats\n",
        "\n",
        "%matplotlib inline"
      ]
    },
    {
      "cell_type": "code",
      "source": [
        "# Read file from Google Drive\n",
        "from google.colab import drive \n",
        "drive.mount('/content/gdrive')"
      ],
      "metadata": {
        "colab": {
          "base_uri": "https://localhost:8080/"
        },
        "id": "SORXC5nD9P2X",
        "outputId": "315d37c1-f872-4eb6-f245-e1e66bfde1eb"
      },
      "execution_count": 2,
      "outputs": [
        {
          "output_type": "stream",
          "name": "stdout",
          "text": [
            "Mounted at /content/gdrive\n"
          ]
        }
      ]
    },
    {
      "cell_type": "code",
      "source": [
        "filepath = '/content/gdrive/MyDrive/Projects/The Strokes/Song Ratings.csv'\n",
        "\n",
        "df_raw = pd.read_csv(filepath)"
      ],
      "metadata": {
        "id": "ChKaEJOhL5NM"
      },
      "execution_count": 3,
      "outputs": []
    },
    {
      "cell_type": "code",
      "source": [
        "with pd.option_context('display.max_rows', None):\n",
        "  display(df_raw)"
      ],
      "metadata": {
        "colab": {
          "base_uri": "https://localhost:8080/",
          "height": 1000
        },
        "id": "C5r52PYpMN-U",
        "outputId": "b3bdf53a-26ba-4924-91fc-70faeebc3b39"
      },
      "execution_count": 4,
      "outputs": [
        {
          "output_type": "display_data",
          "data": {
            "text/plain": [
              "                               song                       album  track_number  \\\n",
              "0                        Is This It                  Is This It             1   \n",
              "1                    The Modern Age                  Is This It             2   \n",
              "2                              Soma                  Is This It             3   \n",
              "3                      Barely Legal                  Is This It             4   \n",
              "4                           Someday                  Is This It             5   \n",
              "5                   Alone, Together                  Is This It             6   \n",
              "6                         Last Nite                  Is This It             7   \n",
              "7                   Hard To Explain                  Is This It             8   \n",
              "8                New York City Cops                  Is This It             9   \n",
              "9                   When It Started                  Is This It            10   \n",
              "10                 Trying Your Luck                  Is This It            11   \n",
              "11              Take It Or Leave It                  Is This It            12   \n",
              "12              What Ever Happened?                Room On Fire             1   \n",
              "13                         Reptilia                Room On Fire             2   \n",
              "14                   Automatic Stop                Room On Fire             3   \n",
              "15                            12:51                Room On Fire             4   \n",
              "16            You Talk Way Too Much                Room On Fire             5   \n",
              "17            Between Love And Hate                Room On Fire             6   \n",
              "18          Meet Me In The Bathroom                Room On Fire             7   \n",
              "19                    Under Control                Room On Fire             8   \n",
              "20                    The Way It Is                Room On Fire             9   \n",
              "21               The End Has No End                Room On Fire            10   \n",
              "22                      I Can't Win                Room On Fire            11   \n",
              "23               You Only Live Once  First Impressions Of Earth             1   \n",
              "24                         Juicebox  First Impressions Of Earth             2   \n",
              "25                  Heart In A Cage  First Impressions Of Earth             3   \n",
              "26                       Razorblade  First Impressions Of Earth             4   \n",
              "27                On The Other Side  First Impressions Of Earth             5   \n",
              "28               Vision Of Division  First Impressions Of Earth             6   \n",
              "29                  Ask Me Anything  First Impressions Of Earth             7   \n",
              "30                 Electricityscape  First Impressions Of Earth             8   \n",
              "31                     Killing Lies  First Impressions Of Earth             9   \n",
              "32                    Fear Of Sleep  First Impressions Of Earth            10   \n",
              "33                       15 Minutes  First Impressions Of Earth            11   \n",
              "34                 Ize Of The World  First Impressions Of Earth            12   \n",
              "35                      Evening Sun  First Impressions Of Earth            13   \n",
              "36                        Red Light  First Impressions Of Earth            14   \n",
              "37                     Machu Picchu                      Angles             1   \n",
              "38          Under Cover Of Darkness                      Angles             2   \n",
              "39           Two Kinds Of Happiness                      Angles             3   \n",
              "40                  You're So Right                      Angles             4   \n",
              "41                 Taken For A Fool                      Angles             5   \n",
              "42                            Games                      Angles             6   \n",
              "43                     Call Me Back                      Angles             7   \n",
              "44                    Gratisfaction                      Angles             8   \n",
              "45                       Metabolism                      Angles             9   \n",
              "46  Life Is Simple In The Moonlight                      Angles            10   \n",
              "47                          Tap Out            Comedown Machine             1   \n",
              "48                     All The Time            Comedown Machine             2   \n",
              "49                  One Way Trigger            Comedown Machine             3   \n",
              "50                 Welcome To Japan            Comedown Machine             4   \n",
              "51            80's Comedown Machine            Comedown Machine             5   \n",
              "52                            50/50            Comedown Machine             6   \n",
              "53                     Slow Animals            Comedown Machine             7   \n",
              "54                Partners In Crime            Comedown Machine             8   \n",
              "55                          Chances            Comedown Machine             9   \n",
              "56                     Happy Ending            Comedown Machine            10   \n",
              "57      Call It Fate, Call It Karma            Comedown Machine            11   \n",
              "58           The Adults Are Talking            The New Abnormal             1   \n",
              "59                         Selfless            The New Abnormal             2   \n",
              "60        Brooklyn Bridge To Chorus            The New Abnormal             3   \n",
              "61                    Bad Decisions            The New Abnormal             4   \n",
              "62                   Eternal Summer            The New Abnormal             5   \n",
              "63                      At The Door            The New Abnormal             6   \n",
              "64   Why Are Sundays So Depressing?            The New Abnormal             7   \n",
              "65             Not The Same Anymore            The New Abnormal             8   \n",
              "66                  Ode To The Mets            The New Abnormal             9   \n",
              "\n",
              "    rating  \n",
              "0        6  \n",
              "1        5  \n",
              "2        3  \n",
              "3        5  \n",
              "4        6  \n",
              "5        5  \n",
              "6        5  \n",
              "7        4  \n",
              "8        6  \n",
              "9        3  \n",
              "10       4  \n",
              "11       3  \n",
              "12       4  \n",
              "13       6  \n",
              "14       5  \n",
              "15       6  \n",
              "16       2  \n",
              "17       5  \n",
              "18       3  \n",
              "19       5  \n",
              "20       2  \n",
              "21       3  \n",
              "22       4  \n",
              "23       6  \n",
              "24       4  \n",
              "25       3  \n",
              "26       3  \n",
              "27       2  \n",
              "28       4  \n",
              "29       2  \n",
              "30       4  \n",
              "31       5  \n",
              "32       2  \n",
              "33       2  \n",
              "34       5  \n",
              "35       3  \n",
              "36       6  \n",
              "37       5  \n",
              "38       4  \n",
              "39       1  \n",
              "40       1  \n",
              "41       5  \n",
              "42       3  \n",
              "43       2  \n",
              "44       2  \n",
              "45       1  \n",
              "46       4  \n",
              "47       3  \n",
              "48       4  \n",
              "49       5  \n",
              "50       4  \n",
              "51       6  \n",
              "52       1  \n",
              "53       2  \n",
              "54       1  \n",
              "55       4  \n",
              "56       1  \n",
              "57       5  \n",
              "58       5  \n",
              "59       6  \n",
              "60       4  \n",
              "61       5  \n",
              "62       3  \n",
              "63       4  \n",
              "64       4  \n",
              "65       5  \n",
              "66       4  "
            ],
            "text/html": [
              "\n",
              "  <div id=\"df-77f72760-91e1-4688-98c3-c6e7c0036491\">\n",
              "    <div class=\"colab-df-container\">\n",
              "      <div>\n",
              "<style scoped>\n",
              "    .dataframe tbody tr th:only-of-type {\n",
              "        vertical-align: middle;\n",
              "    }\n",
              "\n",
              "    .dataframe tbody tr th {\n",
              "        vertical-align: top;\n",
              "    }\n",
              "\n",
              "    .dataframe thead th {\n",
              "        text-align: right;\n",
              "    }\n",
              "</style>\n",
              "<table border=\"1\" class=\"dataframe\">\n",
              "  <thead>\n",
              "    <tr style=\"text-align: right;\">\n",
              "      <th></th>\n",
              "      <th>song</th>\n",
              "      <th>album</th>\n",
              "      <th>track_number</th>\n",
              "      <th>rating</th>\n",
              "    </tr>\n",
              "  </thead>\n",
              "  <tbody>\n",
              "    <tr>\n",
              "      <th>0</th>\n",
              "      <td>Is This It</td>\n",
              "      <td>Is This It</td>\n",
              "      <td>1</td>\n",
              "      <td>6</td>\n",
              "    </tr>\n",
              "    <tr>\n",
              "      <th>1</th>\n",
              "      <td>The Modern Age</td>\n",
              "      <td>Is This It</td>\n",
              "      <td>2</td>\n",
              "      <td>5</td>\n",
              "    </tr>\n",
              "    <tr>\n",
              "      <th>2</th>\n",
              "      <td>Soma</td>\n",
              "      <td>Is This It</td>\n",
              "      <td>3</td>\n",
              "      <td>3</td>\n",
              "    </tr>\n",
              "    <tr>\n",
              "      <th>3</th>\n",
              "      <td>Barely Legal</td>\n",
              "      <td>Is This It</td>\n",
              "      <td>4</td>\n",
              "      <td>5</td>\n",
              "    </tr>\n",
              "    <tr>\n",
              "      <th>4</th>\n",
              "      <td>Someday</td>\n",
              "      <td>Is This It</td>\n",
              "      <td>5</td>\n",
              "      <td>6</td>\n",
              "    </tr>\n",
              "    <tr>\n",
              "      <th>5</th>\n",
              "      <td>Alone, Together</td>\n",
              "      <td>Is This It</td>\n",
              "      <td>6</td>\n",
              "      <td>5</td>\n",
              "    </tr>\n",
              "    <tr>\n",
              "      <th>6</th>\n",
              "      <td>Last Nite</td>\n",
              "      <td>Is This It</td>\n",
              "      <td>7</td>\n",
              "      <td>5</td>\n",
              "    </tr>\n",
              "    <tr>\n",
              "      <th>7</th>\n",
              "      <td>Hard To Explain</td>\n",
              "      <td>Is This It</td>\n",
              "      <td>8</td>\n",
              "      <td>4</td>\n",
              "    </tr>\n",
              "    <tr>\n",
              "      <th>8</th>\n",
              "      <td>New York City Cops</td>\n",
              "      <td>Is This It</td>\n",
              "      <td>9</td>\n",
              "      <td>6</td>\n",
              "    </tr>\n",
              "    <tr>\n",
              "      <th>9</th>\n",
              "      <td>When It Started</td>\n",
              "      <td>Is This It</td>\n",
              "      <td>10</td>\n",
              "      <td>3</td>\n",
              "    </tr>\n",
              "    <tr>\n",
              "      <th>10</th>\n",
              "      <td>Trying Your Luck</td>\n",
              "      <td>Is This It</td>\n",
              "      <td>11</td>\n",
              "      <td>4</td>\n",
              "    </tr>\n",
              "    <tr>\n",
              "      <th>11</th>\n",
              "      <td>Take It Or Leave It</td>\n",
              "      <td>Is This It</td>\n",
              "      <td>12</td>\n",
              "      <td>3</td>\n",
              "    </tr>\n",
              "    <tr>\n",
              "      <th>12</th>\n",
              "      <td>What Ever Happened?</td>\n",
              "      <td>Room On Fire</td>\n",
              "      <td>1</td>\n",
              "      <td>4</td>\n",
              "    </tr>\n",
              "    <tr>\n",
              "      <th>13</th>\n",
              "      <td>Reptilia</td>\n",
              "      <td>Room On Fire</td>\n",
              "      <td>2</td>\n",
              "      <td>6</td>\n",
              "    </tr>\n",
              "    <tr>\n",
              "      <th>14</th>\n",
              "      <td>Automatic Stop</td>\n",
              "      <td>Room On Fire</td>\n",
              "      <td>3</td>\n",
              "      <td>5</td>\n",
              "    </tr>\n",
              "    <tr>\n",
              "      <th>15</th>\n",
              "      <td>12:51</td>\n",
              "      <td>Room On Fire</td>\n",
              "      <td>4</td>\n",
              "      <td>6</td>\n",
              "    </tr>\n",
              "    <tr>\n",
              "      <th>16</th>\n",
              "      <td>You Talk Way Too Much</td>\n",
              "      <td>Room On Fire</td>\n",
              "      <td>5</td>\n",
              "      <td>2</td>\n",
              "    </tr>\n",
              "    <tr>\n",
              "      <th>17</th>\n",
              "      <td>Between Love And Hate</td>\n",
              "      <td>Room On Fire</td>\n",
              "      <td>6</td>\n",
              "      <td>5</td>\n",
              "    </tr>\n",
              "    <tr>\n",
              "      <th>18</th>\n",
              "      <td>Meet Me In The Bathroom</td>\n",
              "      <td>Room On Fire</td>\n",
              "      <td>7</td>\n",
              "      <td>3</td>\n",
              "    </tr>\n",
              "    <tr>\n",
              "      <th>19</th>\n",
              "      <td>Under Control</td>\n",
              "      <td>Room On Fire</td>\n",
              "      <td>8</td>\n",
              "      <td>5</td>\n",
              "    </tr>\n",
              "    <tr>\n",
              "      <th>20</th>\n",
              "      <td>The Way It Is</td>\n",
              "      <td>Room On Fire</td>\n",
              "      <td>9</td>\n",
              "      <td>2</td>\n",
              "    </tr>\n",
              "    <tr>\n",
              "      <th>21</th>\n",
              "      <td>The End Has No End</td>\n",
              "      <td>Room On Fire</td>\n",
              "      <td>10</td>\n",
              "      <td>3</td>\n",
              "    </tr>\n",
              "    <tr>\n",
              "      <th>22</th>\n",
              "      <td>I Can't Win</td>\n",
              "      <td>Room On Fire</td>\n",
              "      <td>11</td>\n",
              "      <td>4</td>\n",
              "    </tr>\n",
              "    <tr>\n",
              "      <th>23</th>\n",
              "      <td>You Only Live Once</td>\n",
              "      <td>First Impressions Of Earth</td>\n",
              "      <td>1</td>\n",
              "      <td>6</td>\n",
              "    </tr>\n",
              "    <tr>\n",
              "      <th>24</th>\n",
              "      <td>Juicebox</td>\n",
              "      <td>First Impressions Of Earth</td>\n",
              "      <td>2</td>\n",
              "      <td>4</td>\n",
              "    </tr>\n",
              "    <tr>\n",
              "      <th>25</th>\n",
              "      <td>Heart In A Cage</td>\n",
              "      <td>First Impressions Of Earth</td>\n",
              "      <td>3</td>\n",
              "      <td>3</td>\n",
              "    </tr>\n",
              "    <tr>\n",
              "      <th>26</th>\n",
              "      <td>Razorblade</td>\n",
              "      <td>First Impressions Of Earth</td>\n",
              "      <td>4</td>\n",
              "      <td>3</td>\n",
              "    </tr>\n",
              "    <tr>\n",
              "      <th>27</th>\n",
              "      <td>On The Other Side</td>\n",
              "      <td>First Impressions Of Earth</td>\n",
              "      <td>5</td>\n",
              "      <td>2</td>\n",
              "    </tr>\n",
              "    <tr>\n",
              "      <th>28</th>\n",
              "      <td>Vision Of Division</td>\n",
              "      <td>First Impressions Of Earth</td>\n",
              "      <td>6</td>\n",
              "      <td>4</td>\n",
              "    </tr>\n",
              "    <tr>\n",
              "      <th>29</th>\n",
              "      <td>Ask Me Anything</td>\n",
              "      <td>First Impressions Of Earth</td>\n",
              "      <td>7</td>\n",
              "      <td>2</td>\n",
              "    </tr>\n",
              "    <tr>\n",
              "      <th>30</th>\n",
              "      <td>Electricityscape</td>\n",
              "      <td>First Impressions Of Earth</td>\n",
              "      <td>8</td>\n",
              "      <td>4</td>\n",
              "    </tr>\n",
              "    <tr>\n",
              "      <th>31</th>\n",
              "      <td>Killing Lies</td>\n",
              "      <td>First Impressions Of Earth</td>\n",
              "      <td>9</td>\n",
              "      <td>5</td>\n",
              "    </tr>\n",
              "    <tr>\n",
              "      <th>32</th>\n",
              "      <td>Fear Of Sleep</td>\n",
              "      <td>First Impressions Of Earth</td>\n",
              "      <td>10</td>\n",
              "      <td>2</td>\n",
              "    </tr>\n",
              "    <tr>\n",
              "      <th>33</th>\n",
              "      <td>15 Minutes</td>\n",
              "      <td>First Impressions Of Earth</td>\n",
              "      <td>11</td>\n",
              "      <td>2</td>\n",
              "    </tr>\n",
              "    <tr>\n",
              "      <th>34</th>\n",
              "      <td>Ize Of The World</td>\n",
              "      <td>First Impressions Of Earth</td>\n",
              "      <td>12</td>\n",
              "      <td>5</td>\n",
              "    </tr>\n",
              "    <tr>\n",
              "      <th>35</th>\n",
              "      <td>Evening Sun</td>\n",
              "      <td>First Impressions Of Earth</td>\n",
              "      <td>13</td>\n",
              "      <td>3</td>\n",
              "    </tr>\n",
              "    <tr>\n",
              "      <th>36</th>\n",
              "      <td>Red Light</td>\n",
              "      <td>First Impressions Of Earth</td>\n",
              "      <td>14</td>\n",
              "      <td>6</td>\n",
              "    </tr>\n",
              "    <tr>\n",
              "      <th>37</th>\n",
              "      <td>Machu Picchu</td>\n",
              "      <td>Angles</td>\n",
              "      <td>1</td>\n",
              "      <td>5</td>\n",
              "    </tr>\n",
              "    <tr>\n",
              "      <th>38</th>\n",
              "      <td>Under Cover Of Darkness</td>\n",
              "      <td>Angles</td>\n",
              "      <td>2</td>\n",
              "      <td>4</td>\n",
              "    </tr>\n",
              "    <tr>\n",
              "      <th>39</th>\n",
              "      <td>Two Kinds Of Happiness</td>\n",
              "      <td>Angles</td>\n",
              "      <td>3</td>\n",
              "      <td>1</td>\n",
              "    </tr>\n",
              "    <tr>\n",
              "      <th>40</th>\n",
              "      <td>You're So Right</td>\n",
              "      <td>Angles</td>\n",
              "      <td>4</td>\n",
              "      <td>1</td>\n",
              "    </tr>\n",
              "    <tr>\n",
              "      <th>41</th>\n",
              "      <td>Taken For A Fool</td>\n",
              "      <td>Angles</td>\n",
              "      <td>5</td>\n",
              "      <td>5</td>\n",
              "    </tr>\n",
              "    <tr>\n",
              "      <th>42</th>\n",
              "      <td>Games</td>\n",
              "      <td>Angles</td>\n",
              "      <td>6</td>\n",
              "      <td>3</td>\n",
              "    </tr>\n",
              "    <tr>\n",
              "      <th>43</th>\n",
              "      <td>Call Me Back</td>\n",
              "      <td>Angles</td>\n",
              "      <td>7</td>\n",
              "      <td>2</td>\n",
              "    </tr>\n",
              "    <tr>\n",
              "      <th>44</th>\n",
              "      <td>Gratisfaction</td>\n",
              "      <td>Angles</td>\n",
              "      <td>8</td>\n",
              "      <td>2</td>\n",
              "    </tr>\n",
              "    <tr>\n",
              "      <th>45</th>\n",
              "      <td>Metabolism</td>\n",
              "      <td>Angles</td>\n",
              "      <td>9</td>\n",
              "      <td>1</td>\n",
              "    </tr>\n",
              "    <tr>\n",
              "      <th>46</th>\n",
              "      <td>Life Is Simple In The Moonlight</td>\n",
              "      <td>Angles</td>\n",
              "      <td>10</td>\n",
              "      <td>4</td>\n",
              "    </tr>\n",
              "    <tr>\n",
              "      <th>47</th>\n",
              "      <td>Tap Out</td>\n",
              "      <td>Comedown Machine</td>\n",
              "      <td>1</td>\n",
              "      <td>3</td>\n",
              "    </tr>\n",
              "    <tr>\n",
              "      <th>48</th>\n",
              "      <td>All The Time</td>\n",
              "      <td>Comedown Machine</td>\n",
              "      <td>2</td>\n",
              "      <td>4</td>\n",
              "    </tr>\n",
              "    <tr>\n",
              "      <th>49</th>\n",
              "      <td>One Way Trigger</td>\n",
              "      <td>Comedown Machine</td>\n",
              "      <td>3</td>\n",
              "      <td>5</td>\n",
              "    </tr>\n",
              "    <tr>\n",
              "      <th>50</th>\n",
              "      <td>Welcome To Japan</td>\n",
              "      <td>Comedown Machine</td>\n",
              "      <td>4</td>\n",
              "      <td>4</td>\n",
              "    </tr>\n",
              "    <tr>\n",
              "      <th>51</th>\n",
              "      <td>80's Comedown Machine</td>\n",
              "      <td>Comedown Machine</td>\n",
              "      <td>5</td>\n",
              "      <td>6</td>\n",
              "    </tr>\n",
              "    <tr>\n",
              "      <th>52</th>\n",
              "      <td>50/50</td>\n",
              "      <td>Comedown Machine</td>\n",
              "      <td>6</td>\n",
              "      <td>1</td>\n",
              "    </tr>\n",
              "    <tr>\n",
              "      <th>53</th>\n",
              "      <td>Slow Animals</td>\n",
              "      <td>Comedown Machine</td>\n",
              "      <td>7</td>\n",
              "      <td>2</td>\n",
              "    </tr>\n",
              "    <tr>\n",
              "      <th>54</th>\n",
              "      <td>Partners In Crime</td>\n",
              "      <td>Comedown Machine</td>\n",
              "      <td>8</td>\n",
              "      <td>1</td>\n",
              "    </tr>\n",
              "    <tr>\n",
              "      <th>55</th>\n",
              "      <td>Chances</td>\n",
              "      <td>Comedown Machine</td>\n",
              "      <td>9</td>\n",
              "      <td>4</td>\n",
              "    </tr>\n",
              "    <tr>\n",
              "      <th>56</th>\n",
              "      <td>Happy Ending</td>\n",
              "      <td>Comedown Machine</td>\n",
              "      <td>10</td>\n",
              "      <td>1</td>\n",
              "    </tr>\n",
              "    <tr>\n",
              "      <th>57</th>\n",
              "      <td>Call It Fate, Call It Karma</td>\n",
              "      <td>Comedown Machine</td>\n",
              "      <td>11</td>\n",
              "      <td>5</td>\n",
              "    </tr>\n",
              "    <tr>\n",
              "      <th>58</th>\n",
              "      <td>The Adults Are Talking</td>\n",
              "      <td>The New Abnormal</td>\n",
              "      <td>1</td>\n",
              "      <td>5</td>\n",
              "    </tr>\n",
              "    <tr>\n",
              "      <th>59</th>\n",
              "      <td>Selfless</td>\n",
              "      <td>The New Abnormal</td>\n",
              "      <td>2</td>\n",
              "      <td>6</td>\n",
              "    </tr>\n",
              "    <tr>\n",
              "      <th>60</th>\n",
              "      <td>Brooklyn Bridge To Chorus</td>\n",
              "      <td>The New Abnormal</td>\n",
              "      <td>3</td>\n",
              "      <td>4</td>\n",
              "    </tr>\n",
              "    <tr>\n",
              "      <th>61</th>\n",
              "      <td>Bad Decisions</td>\n",
              "      <td>The New Abnormal</td>\n",
              "      <td>4</td>\n",
              "      <td>5</td>\n",
              "    </tr>\n",
              "    <tr>\n",
              "      <th>62</th>\n",
              "      <td>Eternal Summer</td>\n",
              "      <td>The New Abnormal</td>\n",
              "      <td>5</td>\n",
              "      <td>3</td>\n",
              "    </tr>\n",
              "    <tr>\n",
              "      <th>63</th>\n",
              "      <td>At The Door</td>\n",
              "      <td>The New Abnormal</td>\n",
              "      <td>6</td>\n",
              "      <td>4</td>\n",
              "    </tr>\n",
              "    <tr>\n",
              "      <th>64</th>\n",
              "      <td>Why Are Sundays So Depressing?</td>\n",
              "      <td>The New Abnormal</td>\n",
              "      <td>7</td>\n",
              "      <td>4</td>\n",
              "    </tr>\n",
              "    <tr>\n",
              "      <th>65</th>\n",
              "      <td>Not The Same Anymore</td>\n",
              "      <td>The New Abnormal</td>\n",
              "      <td>8</td>\n",
              "      <td>5</td>\n",
              "    </tr>\n",
              "    <tr>\n",
              "      <th>66</th>\n",
              "      <td>Ode To The Mets</td>\n",
              "      <td>The New Abnormal</td>\n",
              "      <td>9</td>\n",
              "      <td>4</td>\n",
              "    </tr>\n",
              "  </tbody>\n",
              "</table>\n",
              "</div>\n",
              "      <button class=\"colab-df-convert\" onclick=\"convertToInteractive('df-77f72760-91e1-4688-98c3-c6e7c0036491')\"\n",
              "              title=\"Convert this dataframe to an interactive table.\"\n",
              "              style=\"display:none;\">\n",
              "        \n",
              "  <svg xmlns=\"http://www.w3.org/2000/svg\" height=\"24px\"viewBox=\"0 0 24 24\"\n",
              "       width=\"24px\">\n",
              "    <path d=\"M0 0h24v24H0V0z\" fill=\"none\"/>\n",
              "    <path d=\"M18.56 5.44l.94 2.06.94-2.06 2.06-.94-2.06-.94-.94-2.06-.94 2.06-2.06.94zm-11 1L8.5 8.5l.94-2.06 2.06-.94-2.06-.94L8.5 2.5l-.94 2.06-2.06.94zm10 10l.94 2.06.94-2.06 2.06-.94-2.06-.94-.94-2.06-.94 2.06-2.06.94z\"/><path d=\"M17.41 7.96l-1.37-1.37c-.4-.4-.92-.59-1.43-.59-.52 0-1.04.2-1.43.59L10.3 9.45l-7.72 7.72c-.78.78-.78 2.05 0 2.83L4 21.41c.39.39.9.59 1.41.59.51 0 1.02-.2 1.41-.59l7.78-7.78 2.81-2.81c.8-.78.8-2.07 0-2.86zM5.41 20L4 18.59l7.72-7.72 1.47 1.35L5.41 20z\"/>\n",
              "  </svg>\n",
              "      </button>\n",
              "      \n",
              "  <style>\n",
              "    .colab-df-container {\n",
              "      display:flex;\n",
              "      flex-wrap:wrap;\n",
              "      gap: 12px;\n",
              "    }\n",
              "\n",
              "    .colab-df-convert {\n",
              "      background-color: #E8F0FE;\n",
              "      border: none;\n",
              "      border-radius: 50%;\n",
              "      cursor: pointer;\n",
              "      display: none;\n",
              "      fill: #1967D2;\n",
              "      height: 32px;\n",
              "      padding: 0 0 0 0;\n",
              "      width: 32px;\n",
              "    }\n",
              "\n",
              "    .colab-df-convert:hover {\n",
              "      background-color: #E2EBFA;\n",
              "      box-shadow: 0px 1px 2px rgba(60, 64, 67, 0.3), 0px 1px 3px 1px rgba(60, 64, 67, 0.15);\n",
              "      fill: #174EA6;\n",
              "    }\n",
              "\n",
              "    [theme=dark] .colab-df-convert {\n",
              "      background-color: #3B4455;\n",
              "      fill: #D2E3FC;\n",
              "    }\n",
              "\n",
              "    [theme=dark] .colab-df-convert:hover {\n",
              "      background-color: #434B5C;\n",
              "      box-shadow: 0px 1px 3px 1px rgba(0, 0, 0, 0.15);\n",
              "      filter: drop-shadow(0px 1px 2px rgba(0, 0, 0, 0.3));\n",
              "      fill: #FFFFFF;\n",
              "    }\n",
              "  </style>\n",
              "\n",
              "      <script>\n",
              "        const buttonEl =\n",
              "          document.querySelector('#df-77f72760-91e1-4688-98c3-c6e7c0036491 button.colab-df-convert');\n",
              "        buttonEl.style.display =\n",
              "          google.colab.kernel.accessAllowed ? 'block' : 'none';\n",
              "\n",
              "        async function convertToInteractive(key) {\n",
              "          const element = document.querySelector('#df-77f72760-91e1-4688-98c3-c6e7c0036491');\n",
              "          const dataTable =\n",
              "            await google.colab.kernel.invokeFunction('convertToInteractive',\n",
              "                                                     [key], {});\n",
              "          if (!dataTable) return;\n",
              "\n",
              "          const docLinkHtml = 'Like what you see? Visit the ' +\n",
              "            '<a target=\"_blank\" href=https://colab.research.google.com/notebooks/data_table.ipynb>data table notebook</a>'\n",
              "            + ' to learn more about interactive tables.';\n",
              "          element.innerHTML = '';\n",
              "          dataTable['output_type'] = 'display_data';\n",
              "          await google.colab.output.renderOutput(dataTable, element);\n",
              "          const docLink = document.createElement('div');\n",
              "          docLink.innerHTML = docLinkHtml;\n",
              "          element.appendChild(docLink);\n",
              "        }\n",
              "      </script>\n",
              "    </div>\n",
              "  </div>\n",
              "  "
            ]
          },
          "metadata": {}
        }
      ]
    },
    {
      "cell_type": "code",
      "source": [
        "# Make a copy.\n",
        "df = df_raw.copy()"
      ],
      "metadata": {
        "id": "p5yQkxEsMlL5"
      },
      "execution_count": 5,
      "outputs": []
    },
    {
      "cell_type": "code",
      "source": [
        "album_order = {\n",
        "    'Is This It': 1,\n",
        "    'Room On Fire': 2,\n",
        "    'First Impressions Of Earth': 3,\n",
        "    'Angles': 4,\n",
        "    'Comedown Machine': 5,\n",
        "    'The New Abnormal': 6,\n",
        "}"
      ],
      "metadata": {
        "id": "xAuliukBTcY6"
      },
      "execution_count": 6,
      "outputs": []
    },
    {
      "cell_type": "markdown",
      "source": [
        "## Distribution of all songs"
      ],
      "metadata": {
        "id": "SCf_0eFdMg89"
      }
    },
    {
      "cell_type": "code",
      "source": [
        "rating, count = np.unique(df.rating, return_counts=True)\n",
        "plt.bar(rating, count, align='center')\n",
        "plt.xlabel('rating')\n",
        "plt.ylabel('count')\n",
        "plt.show()"
      ],
      "metadata": {
        "colab": {
          "base_uri": "https://localhost:8080/",
          "height": 279
        },
        "id": "PlxcBH58NOOM",
        "outputId": "c0a26ac3-ead7-46fe-e237-7159bd270ff5"
      },
      "execution_count": 7,
      "outputs": [
        {
          "output_type": "display_data",
          "data": {
            "text/plain": [
              "<Figure size 432x288 with 1 Axes>"
            ],
            "image/png": "[encoded data removed]"
          },
          "metadata": {
            "needs_background": "light"
          }
        }
      ]
    },
    {
      "cell_type": "markdown",
      "source": [
        "## Aggregate statistics by album\n",
        "\n",
        "Find summary statistics by album:\n",
        "\n",
        "- Mean\n",
        "- Median\n",
        "- Standard deviation\n",
        "- Proportion of songs with 4+ ratings"
      ],
      "metadata": {
        "id": "LHw2CqjDQb2z"
      }
    },
    {
      "cell_type": "code",
      "source": [
        "def summarize_ratings(ratings):\n",
        "  return {\n",
        "      'mean_rating': np.mean(ratings),\n",
        "      'median_rating': np.median(ratings),\n",
        "      'std_rating': np.std(ratings),\n",
        "      'prop_ratings_four_plus': sum(ratings >= 4) / len(ratings),\n",
        "  }\n",
        "\n",
        "df_album_summaries = df.groupby('album').rating.apply(summarize_ratings).unstack().reset_index()\n",
        "df_album_summaries"
      ],
      "metadata": {
        "colab": {
          "base_uri": "https://localhost:8080/",
          "height": 235
        },
        "id": "TPgflIUfQfEd",
        "outputId": "b93e8336-4164-4e06-9406-1048e9515f2b"
      },
      "execution_count": 8,
      "outputs": [
        {
          "output_type": "execute_result",
          "data": {
            "text/plain": [
              "                        album  mean_rating  median_rating  std_rating  \\\n",
              "0                      Angles     2.800000            2.5    1.536229   \n",
              "1            Comedown Machine     3.272727            4.0    1.710444   \n",
              "2  First Impressions Of Earth     3.642857            3.5    1.394230   \n",
              "3                  Is This It     4.583333            5.0    1.114924   \n",
              "4                Room On Fire     4.090909            4.0    1.378705   \n",
              "5            The New Abnormal     4.444444            4.0    0.831479   \n",
              "\n",
              "   prop_ratings_four_plus  \n",
              "0                0.400000  \n",
              "1                0.545455  \n",
              "2                0.500000  \n",
              "3                0.750000  \n",
              "4                0.636364  \n",
              "5                0.888889  "
            ],
            "text/html": [
              "\n",
              "  <div id=\"df-fcfbfce9-4727-4af8-b9e2-4b2d70423ec1\">\n",
              "    <div class=\"colab-df-container\">\n",
              "      <div>\n",
              "<style scoped>\n",
              "    .dataframe tbody tr th:only-of-type {\n",
              "        vertical-align: middle;\n",
              "    }\n",
              "\n",
              "    .dataframe tbody tr th {\n",
              "        vertical-align: top;\n",
              "    }\n",
              "\n",
              "    .dataframe thead th {\n",
              "        text-align: right;\n",
              "    }\n",
              "</style>\n",
              "<table border=\"1\" class=\"dataframe\">\n",
              "  <thead>\n",
              "    <tr style=\"text-align: right;\">\n",
              "      <th></th>\n",
              "      <th>album</th>\n",
              "      <th>mean_rating</th>\n",
              "      <th>median_rating</th>\n",
              "      <th>std_rating</th>\n",
              "      <th>prop_ratings_four_plus</th>\n",
              "    </tr>\n",
              "  </thead>\n",
              "  <tbody>\n",
              "    <tr>\n",
              "      <th>0</th>\n",
              "      <td>Angles</td>\n",
              "      <td>2.800000</td>\n",
              "      <td>2.5</td>\n",
              "      <td>1.536229</td>\n",
              "      <td>0.400000</td>\n",
              "    </tr>\n",
              "    <tr>\n",
              "      <th>1</th>\n",
              "      <td>Comedown Machine</td>\n",
              "      <td>3.272727</td>\n",
              "      <td>4.0</td>\n",
              "      <td>1.710444</td>\n",
              "      <td>0.545455</td>\n",
              "    </tr>\n",
              "    <tr>\n",
              "      <th>2</th>\n",
              "      <td>First Impressions Of Earth</td>\n",
              "      <td>3.642857</td>\n",
              "      <td>3.5</td>\n",
              "      <td>1.394230</td>\n",
              "      <td>0.500000</td>\n",
              "    </tr>\n",
              "    <tr>\n",
              "      <th>3</th>\n",
              "      <td>Is This It</td>\n",
              "      <td>4.583333</td>\n",
              "      <td>5.0</td>\n",
              "      <td>1.114924</td>\n",
              "      <td>0.750000</td>\n",
              "    </tr>\n",
              "    <tr>\n",
              "      <th>4</th>\n",
              "      <td>Room On Fire</td>\n",
              "      <td>4.090909</td>\n",
              "      <td>4.0</td>\n",
              "      <td>1.378705</td>\n",
              "      <td>0.636364</td>\n",
              "    </tr>\n",
              "    <tr>\n",
              "      <th>5</th>\n",
              "      <td>The New Abnormal</td>\n",
              "      <td>4.444444</td>\n",
              "      <td>4.0</td>\n",
              "      <td>0.831479</td>\n",
              "      <td>0.888889</td>\n",
              "    </tr>\n",
              "  </tbody>\n",
              "</table>\n",
              "</div>\n",
              "      <button class=\"colab-df-convert\" onclick=\"convertToInteractive('df-fcfbfce9-4727-4af8-b9e2-4b2d70423ec1')\"\n",
              "              title=\"Convert this dataframe to an interactive table.\"\n",
              "              style=\"display:none;\">\n",
              "        \n",
              "  <svg xmlns=\"http://www.w3.org/2000/svg\" height=\"24px\"viewBox=\"0 0 24 24\"\n",
              "       width=\"24px\">\n",
              "    <path d=\"M0 0h24v24H0V0z\" fill=\"none\"/>\n",
              "    <path d=\"M18.56 5.44l.94 2.06.94-2.06 2.06-.94-2.06-.94-.94-2.06-.94 2.06-2.06.94zm-11 1L8.5 8.5l.94-2.06 2.06-.94-2.06-.94L8.5 2.5l-.94 2.06-2.06.94zm10 10l.94 2.06.94-2.06 2.06-.94-2.06-.94-.94-2.06-.94 2.06-2.06.94z\"/><path d=\"M17.41 7.96l-1.37-1.37c-.4-.4-.92-.59-1.43-.59-.52 0-1.04.2-1.43.59L10.3 9.45l-7.72 7.72c-.78.78-.78 2.05 0 2.83L4 21.41c.39.39.9.59 1.41.59.51 0 1.02-.2 1.41-.59l7.78-7.78 2.81-2.81c.8-.78.8-2.07 0-2.86zM5.41 20L4 18.59l7.72-7.72 1.47 1.35L5.41 20z\"/>\n",
              "  </svg>\n",
              "      </button>\n",
              "      \n",
              "  <style>\n",
              "    .colab-df-container {\n",
              "      display:flex;\n",
              "      flex-wrap:wrap;\n",
              "      gap: 12px;\n",
              "    }\n",
              "\n",
              "    .colab-df-convert {\n",
              "      background-color: #E8F0FE;\n",
              "      border: none;\n",
              "      border-radius: 50%;\n",
              "      cursor: pointer;\n",
              "      display: none;\n",
              "      fill: #1967D2;\n",
              "      height: 32px;\n",
              "      padding: 0 0 0 0;\n",
              "      width: 32px;\n",
              "    }\n",
              "\n",
              "    .colab-df-convert:hover {\n",
              "      background-color: #E2EBFA;\n",
              "      box-shadow: 0px 1px 2px rgba(60, 64, 67, 0.3), 0px 1px 3px 1px rgba(60, 64, 67, 0.15);\n",
              "      fill: #174EA6;\n",
              "    }\n",
              "\n",
              "    [theme=dark] .colab-df-convert {\n",
              "      background-color: #3B4455;\n",
              "      fill: #D2E3FC;\n",
              "    }\n",
              "\n",
              "    [theme=dark] .colab-df-convert:hover {\n",
              "      background-color: #434B5C;\n",
              "      box-shadow: 0px 1px 3px 1px rgba(0, 0, 0, 0.15);\n",
              "      filter: drop-shadow(0px 1px 2px rgba(0, 0, 0, 0.3));\n",
              "      fill: #FFFFFF;\n",
              "    }\n",
              "  </style>\n",
              "\n",
              "      <script>\n",
              "        const buttonEl =\n",
              "          document.querySelector('#df-fcfbfce9-4727-4af8-b9e2-4b2d70423ec1 button.colab-df-convert');\n",
              "        buttonEl.style.display =\n",
              "          google.colab.kernel.accessAllowed ? 'block' : 'none';\n",
              "\n",
              "        async function convertToInteractive(key) {\n",
              "          const element = document.querySelector('#df-fcfbfce9-4727-4af8-b9e2-4b2d70423ec1');\n",
              "          const dataTable =\n",
              "            await google.colab.kernel.invokeFunction('convertToInteractive',\n",
              "                                                     [key], {});\n",
              "          if (!dataTable) return;\n",
              "\n",
              "          const docLinkHtml = 'Like what you see? Visit the ' +\n",
              "            '<a target=\"_blank\" href=https://colab.research.google.com/notebooks/data_table.ipynb>data table notebook</a>'\n",
              "            + ' to learn more about interactive tables.';\n",
              "          element.innerHTML = '';\n",
              "          dataTable['output_type'] = 'display_data';\n",
              "          await google.colab.output.renderOutput(dataTable, element);\n",
              "          const docLink = document.createElement('div');\n",
              "          docLink.innerHTML = docLinkHtml;\n",
              "          element.appendChild(docLink);\n",
              "        }\n",
              "      </script>\n",
              "    </div>\n",
              "  </div>\n",
              "  "
            ]
          },
          "metadata": {},
          "execution_count": 8
        }
      ]
    },
    {
      "cell_type": "code",
      "source": [
        "df_album_summaries['album_number'] = df_album_summaries['album'].map(album_order)\n",
        "df_album_summaries.sort_values('album_number', inplace=True)"
      ],
      "metadata": {
        "id": "qKIia4vnTq1V"
      },
      "execution_count": 9,
      "outputs": []
    },
    {
      "cell_type": "markdown",
      "source": [
        "### Best album by proportion of songs with 4+ rating: The New Abnormal"
      ],
      "metadata": {
        "id": "b7FfJlKyUHz6"
      }
    },
    {
      "cell_type": "code",
      "source": [
        "plt.bar(df_album_summaries.album, df_album_summaries.prop_ratings_four_plus)\n",
        "plt.xticks(rotation=90)\n",
        "plt.xlabel('album')\n",
        "plt.ylabel('proportion of songs with 4+ rating')\n",
        "plt.show()"
      ],
      "metadata": {
        "colab": {
          "base_uri": "https://localhost:8080/",
          "height": 398
        },
        "id": "dhUBn3rmSGe1",
        "outputId": "d36017df-3649-43cc-c9e5-d364e025d4e4"
      },
      "execution_count": 10,
      "outputs": [
        {
          "output_type": "display_data",
          "data": {
            "text/plain": [
              "<Figure size 432x288 with 1 Axes>"
            ],
            "image/png": "[encoded data removed]"
          },
          "metadata": {
            "needs_background": "light"
          }
        }
      ]
    },
    {
      "cell_type": "markdown",
      "source": [
        "### Best album by mean: Is This It"
      ],
      "metadata": {
        "id": "6nMHq39nURwZ"
      }
    },
    {
      "cell_type": "code",
      "source": [
        "plt.bar(df_album_summaries.album, df_album_summaries.mean_rating)\n",
        "plt.xticks(rotation=90)\n",
        "plt.xlabel('album')\n",
        "plt.ylabel('mean rating')\n",
        "plt.show()"
      ],
      "metadata": {
        "colab": {
          "base_uri": "https://localhost:8080/",
          "height": 398
        },
        "id": "71Sth-8vUXAi",
        "outputId": "32a80523-4e71-4771-aebd-fc1d08977c7c"
      },
      "execution_count": 11,
      "outputs": [
        {
          "output_type": "display_data",
          "data": {
            "text/plain": [
              "<Figure size 432x288 with 1 Axes>"
            ],
            "image/png": "[encoded data removed]"
          },
          "metadata": {
            "needs_background": "light"
          }
        }
      ]
    },
    {
      "cell_type": "markdown",
      "source": [
        "### Best album by median: Is This It"
      ],
      "metadata": {
        "id": "8_tRuJ8PZroX"
      }
    },
    {
      "cell_type": "code",
      "source": [
        "plt.bar(df_album_summaries.album, df_album_summaries.median_rating)\n",
        "plt.xticks(rotation=90)\n",
        "plt.xlabel('album')\n",
        "plt.ylabel('median rating')\n",
        "plt.show()"
      ],
      "metadata": {
        "colab": {
          "base_uri": "https://localhost:8080/",
          "height": 398
        },
        "outputId": "5b465d67-cf27-423b-85e5-9640fc761aa2",
        "id": "vUahId7qZt0W"
      },
      "execution_count": 12,
      "outputs": [
        {
          "output_type": "display_data",
          "data": {
            "text/plain": [
              "<Figure size 432x288 with 1 Axes>"
            ],
            "image/png": "[encoded data removed]"
          },
          "metadata": {
            "needs_background": "light"
          }
        }
      ]
    },
    {
      "cell_type": "markdown",
      "source": [
        "This is *clearly* a poor metric, since the median ranks The New Abnormal alongside Comedown Machine (higher than Room On Fire). Absurd. There aren't enough distinct categories in the \"rating\" for median to be an effective metric."
      ],
      "metadata": {
        "id": "d8yCTReBZ3o2"
      }
    },
    {
      "cell_type": "markdown",
      "source": [
        "### Plot of mean and standard deviation\n",
        "\n",
        "Below is a plot of each album's mean rating and one standard deviation above/below that mean."
      ],
      "metadata": {
        "id": "mCXdXZSdnXLL"
      }
    },
    {
      "cell_type": "code",
      "source": [
        "plt.scatter(df_album_summaries.mean_rating, df_album_summaries.album, color='red', s=100)\n",
        "plt.hlines(df_album_summaries.album,\n",
        "           df_album_summaries.mean_rating - df_album_summaries.std_rating,\n",
        "           df_album_summaries.mean_rating + df_album_summaries.std_rating,\n",
        "           color='red')\n",
        "plt.xlabel('rating')\n",
        "plt.show()"
      ],
      "metadata": {
        "colab": {
          "base_uri": "https://localhost:8080/",
          "height": 279
        },
        "id": "1CLFsc1Wnbvk",
        "outputId": "e970e1e8-f0c2-494f-9720-6ebc051a288f"
      },
      "execution_count": 13,
      "outputs": [
        {
          "output_type": "display_data",
          "data": {
            "text/plain": [
              "<Figure size 432x288 with 1 Axes>"
            ],
            "image/png": "[encoded data removed]"
          },
          "metadata": {
            "needs_background": "light"
          }
        }
      ]
    },
    {
      "cell_type": "markdown",
      "source": [
        "From this, we see that while Is This It is the best album by mean, The New Abnormal is a \"tighter\" album, in that all tracks are more consistently higher rated."
      ],
      "metadata": {
        "id": "LTWJoTTioy2W"
      }
    },
    {
      "cell_type": "markdown",
      "source": [
        "## Side A specialists?\n",
        "\n",
        "For a while, I've wondered whether The Strokes are \"Side A specialists\", namely: Do their albums deteriorate later in the album?\n",
        "\n",
        "Let's plot the song rating for each album."
      ],
      "metadata": {
        "id": "xdzZIKs0o6Pv"
      }
    },
    {
      "cell_type": "code",
      "source": [
        "sns.lineplot(x='track_number', y='rating', hue='album', data=df)\n",
        "plt.legend(bbox_to_anchor=(1, 0.8))\n",
        "plt.show()"
      ],
      "metadata": {
        "colab": {
          "base_uri": "https://localhost:8080/",
          "height": 280
        },
        "id": "HOMysDD8pL8c",
        "outputId": "654c6808-4039-4c1d-b8a5-454d87dcd270"
      },
      "execution_count": 14,
      "outputs": [
        {
          "output_type": "display_data",
          "data": {
            "text/plain": [
              "<Figure size 432x288 with 1 Axes>"
            ],
            "image/png": "[encoded data removed]"
          },
          "metadata": {
            "needs_background": "light"
          }
        }
      ]
    },
    {
      "cell_type": "markdown",
      "source": [
        "There is so much noise here, the graph is difficult to digest. Let's calculate the correlation between the track number and the song rating. A negative value would imply that rating decreases later in the albums."
      ],
      "metadata": {
        "id": "rfXgLS922Ajv"
      }
    },
    {
      "cell_type": "code",
      "source": [
        "np.corrcoef(df.track_number, df.rating)[1, 0]"
      ],
      "metadata": {
        "colab": {
          "base_uri": "https://localhost:8080/"
        },
        "id": "yT2CXHVp2Ki8",
        "outputId": "3b7fd7bb-2468-46ca-9140-cce01d025203"
      },
      "execution_count": 15,
      "outputs": [
        {
          "output_type": "execute_result",
          "data": {
            "text/plain": [
              "-0.22080949097477462"
            ]
          },
          "metadata": {},
          "execution_count": 15
        }
      ]
    },
    {
      "cell_type": "markdown",
      "source": [
        "Let's partition each album into Side A and Side B. Since finding the actual vinyl sides is painful, we will assume that a track is on Side A if `track_number <= np.ceil(len(songs) / 2)`, since Side A generally contains at least as many songs as Side B."
      ],
      "metadata": {
        "id": "fKfR_Rn7DTMq"
      }
    },
    {
      "cell_type": "code",
      "source": [
        "df['album_side'] = ['A' if i else 'B' for i in df.track_number <= np.ceil(df.groupby('album').track_number.transform('max') / 2)]\n",
        "df.head(12)"
      ],
      "metadata": {
        "colab": {
          "base_uri": "https://localhost:8080/",
          "height": 421
        },
        "id": "5kQbZTloFHqp",
        "outputId": "9334e295-87cf-4a86-ddb6-03ee0325c379"
      },
      "execution_count": 16,
      "outputs": [
        {
          "output_type": "execute_result",
          "data": {
            "text/plain": [
              "                   song       album  track_number  rating album_side\n",
              "0            Is This It  Is This It             1       6          A\n",
              "1        The Modern Age  Is This It             2       5          A\n",
              "2                  Soma  Is This It             3       3          A\n",
              "3          Barely Legal  Is This It             4       5          A\n",
              "4               Someday  Is This It             5       6          A\n",
              "5       Alone, Together  Is This It             6       5          A\n",
              "6             Last Nite  Is This It             7       5          B\n",
              "7       Hard To Explain  Is This It             8       4          B\n",
              "8    New York City Cops  Is This It             9       6          B\n",
              "9       When It Started  Is This It            10       3          B\n",
              "10     Trying Your Luck  Is This It            11       4          B\n",
              "11  Take It Or Leave It  Is This It            12       3          B"
            ],
            "text/html": [
              "\n",
              "  <div id=\"df-6f349b2a-22c5-4fd7-896c-10366c310dc5\">\n",
              "    <div class=\"colab-df-container\">\n",
              "      <div>\n",
              "<style scoped>\n",
              "    .dataframe tbody tr th:only-of-type {\n",
              "        vertical-align: middle;\n",
              "    }\n",
              "\n",
              "    .dataframe tbody tr th {\n",
              "        vertical-align: top;\n",
              "    }\n",
              "\n",
              "    .dataframe thead th {\n",
              "        text-align: right;\n",
              "    }\n",
              "</style>\n",
              "<table border=\"1\" class=\"dataframe\">\n",
              "  <thead>\n",
              "    <tr style=\"text-align: right;\">\n",
              "      <th></th>\n",
              "      <th>song</th>\n",
              "      <th>album</th>\n",
              "      <th>track_number</th>\n",
              "      <th>rating</th>\n",
              "      <th>album_side</th>\n",
              "    </tr>\n",
              "  </thead>\n",
              "  <tbody>\n",
              "    <tr>\n",
              "      <th>0</th>\n",
              "      <td>Is This It</td>\n",
              "      <td>Is This It</td>\n",
              "      <td>1</td>\n",
              "      <td>6</td>\n",
              "      <td>A</td>\n",
              "    </tr>\n",
              "    <tr>\n",
              "      <th>1</th>\n",
              "      <td>The Modern Age</td>\n",
              "      <td>Is This It</td>\n",
              "      <td>2</td>\n",
              "      <td>5</td>\n",
              "      <td>A</td>\n",
              "    </tr>\n",
              "    <tr>\n",
              "      <th>2</th>\n",
              "      <td>Soma</td>\n",
              "      <td>Is This It</td>\n",
              "      <td>3</td>\n",
              "      <td>3</td>\n",
              "      <td>A</td>\n",
              "    </tr>\n",
              "    <tr>\n",
              "      <th>3</th>\n",
              "      <td>Barely Legal</td>\n",
              "      <td>Is This It</td>\n",
              "      <td>4</td>\n",
              "      <td>5</td>\n",
              "      <td>A</td>\n",
              "    </tr>\n",
              "    <tr>\n",
              "      <th>4</th>\n",
              "      <td>Someday</td>\n",
              "      <td>Is This It</td>\n",
              "      <td>5</td>\n",
              "      <td>6</td>\n",
              "      <td>A</td>\n",
              "    </tr>\n",
              "    <tr>\n",
              "      <th>5</th>\n",
              "      <td>Alone, Together</td>\n",
              "      <td>Is This It</td>\n",
              "      <td>6</td>\n",
              "      <td>5</td>\n",
              "      <td>A</td>\n",
              "    </tr>\n",
              "    <tr>\n",
              "      <th>6</th>\n",
              "      <td>Last Nite</td>\n",
              "      <td>Is This It</td>\n",
              "      <td>7</td>\n",
              "      <td>5</td>\n",
              "      <td>B</td>\n",
              "    </tr>\n",
              "    <tr>\n",
              "      <th>7</th>\n",
              "      <td>Hard To Explain</td>\n",
              "      <td>Is This It</td>\n",
              "      <td>8</td>\n",
              "      <td>4</td>\n",
              "      <td>B</td>\n",
              "    </tr>\n",
              "    <tr>\n",
              "      <th>8</th>\n",
              "      <td>New York City Cops</td>\n",
              "      <td>Is This It</td>\n",
              "      <td>9</td>\n",
              "      <td>6</td>\n",
              "      <td>B</td>\n",
              "    </tr>\n",
              "    <tr>\n",
              "      <th>9</th>\n",
              "      <td>When It Started</td>\n",
              "      <td>Is This It</td>\n",
              "      <td>10</td>\n",
              "      <td>3</td>\n",
              "      <td>B</td>\n",
              "    </tr>\n",
              "    <tr>\n",
              "      <th>10</th>\n",
              "      <td>Trying Your Luck</td>\n",
              "      <td>Is This It</td>\n",
              "      <td>11</td>\n",
              "      <td>4</td>\n",
              "      <td>B</td>\n",
              "    </tr>\n",
              "    <tr>\n",
              "      <th>11</th>\n",
              "      <td>Take It Or Leave It</td>\n",
              "      <td>Is This It</td>\n",
              "      <td>12</td>\n",
              "      <td>3</td>\n",
              "      <td>B</td>\n",
              "    </tr>\n",
              "  </tbody>\n",
              "</table>\n",
              "</div>\n",
              "      <button class=\"colab-df-convert\" onclick=\"convertToInteractive('df-6f349b2a-22c5-4fd7-896c-10366c310dc5')\"\n",
              "              title=\"Convert this dataframe to an interactive table.\"\n",
              "              style=\"display:none;\">\n",
              "        \n",
              "  <svg xmlns=\"http://www.w3.org/2000/svg\" height=\"24px\"viewBox=\"0 0 24 24\"\n",
              "       width=\"24px\">\n",
              "    <path d=\"M0 0h24v24H0V0z\" fill=\"none\"/>\n",
              "    <path d=\"M18.56 5.44l.94 2.06.94-2.06 2.06-.94-2.06-.94-.94-2.06-.94 2.06-2.06.94zm-11 1L8.5 8.5l.94-2.06 2.06-.94-2.06-.94L8.5 2.5l-.94 2.06-2.06.94zm10 10l.94 2.06.94-2.06 2.06-.94-2.06-.94-.94-2.06-.94 2.06-2.06.94z\"/><path d=\"M17.41 7.96l-1.37-1.37c-.4-.4-.92-.59-1.43-.59-.52 0-1.04.2-1.43.59L10.3 9.45l-7.72 7.72c-.78.78-.78 2.05 0 2.83L4 21.41c.39.39.9.59 1.41.59.51 0 1.02-.2 1.41-.59l7.78-7.78 2.81-2.81c.8-.78.8-2.07 0-2.86zM5.41 20L4 18.59l7.72-7.72 1.47 1.35L5.41 20z\"/>\n",
              "  </svg>\n",
              "      </button>\n",
              "      \n",
              "  <style>\n",
              "    .colab-df-container {\n",
              "      display:flex;\n",
              "      flex-wrap:wrap;\n",
              "      gap: 12px;\n",
              "    }\n",
              "\n",
              "    .colab-df-convert {\n",
              "      background-color: #E8F0FE;\n",
              "      border: none;\n",
              "      border-radius: 50%;\n",
              "      cursor: pointer;\n",
              "      display: none;\n",
              "      fill: #1967D2;\n",
              "      height: 32px;\n",
              "      padding: 0 0 0 0;\n",
              "      width: 32px;\n",
              "    }\n",
              "\n",
              "    .colab-df-convert:hover {\n",
              "      background-color: #E2EBFA;\n",
              "      box-shadow: 0px 1px 2px rgba(60, 64, 67, 0.3), 0px 1px 3px 1px rgba(60, 64, 67, 0.15);\n",
              "      fill: #174EA6;\n",
              "    }\n",
              "\n",
              "    [theme=dark] .colab-df-convert {\n",
              "      background-color: #3B4455;\n",
              "      fill: #D2E3FC;\n",
              "    }\n",
              "\n",
              "    [theme=dark] .colab-df-convert:hover {\n",
              "      background-color: #434B5C;\n",
              "      box-shadow: 0px 1px 3px 1px rgba(0, 0, 0, 0.15);\n",
              "      filter: drop-shadow(0px 1px 2px rgba(0, 0, 0, 0.3));\n",
              "      fill: #FFFFFF;\n",
              "    }\n",
              "  </style>\n",
              "\n",
              "      <script>\n",
              "        const buttonEl =\n",
              "          document.querySelector('#df-6f349b2a-22c5-4fd7-896c-10366c310dc5 button.colab-df-convert');\n",
              "        buttonEl.style.display =\n",
              "          google.colab.kernel.accessAllowed ? 'block' : 'none';\n",
              "\n",
              "        async function convertToInteractive(key) {\n",
              "          const element = document.querySelector('#df-6f349b2a-22c5-4fd7-896c-10366c310dc5');\n",
              "          const dataTable =\n",
              "            await google.colab.kernel.invokeFunction('convertToInteractive',\n",
              "                                                     [key], {});\n",
              "          if (!dataTable) return;\n",
              "\n",
              "          const docLinkHtml = 'Like what you see? Visit the ' +\n",
              "            '<a target=\"_blank\" href=https://colab.research.google.com/notebooks/data_table.ipynb>data table notebook</a>'\n",
              "            + ' to learn more about interactive tables.';\n",
              "          element.innerHTML = '';\n",
              "          dataTable['output_type'] = 'display_data';\n",
              "          await google.colab.output.renderOutput(dataTable, element);\n",
              "          const docLink = document.createElement('div');\n",
              "          docLink.innerHTML = docLinkHtml;\n",
              "          element.appendChild(docLink);\n",
              "        }\n",
              "      </script>\n",
              "    </div>\n",
              "  </div>\n",
              "  "
            ]
          },
          "metadata": {},
          "execution_count": 16
        }
      ]
    },
    {
      "cell_type": "markdown",
      "source": [
        "Let's plot a histogram of ratings for Sides A and B."
      ],
      "metadata": {
        "id": "SwU9IKDiLCPq"
      }
    },
    {
      "cell_type": "code",
      "source": [
        "for side in ['A', 'B']:\n",
        "  adj = -1 if side == 'A' else 1\n",
        "  df_side = df[df.album_side==side]\n",
        "  rating, count = np.unique(df_side.rating, return_counts=True)\n",
        "  plt.bar(rating + adj*0.2, count, width=0.4, align='center', label='Side ' + side)\n",
        "\n",
        "plt.legend()\n",
        "plt.show()"
      ],
      "metadata": {
        "colab": {
          "base_uri": "https://localhost:8080/",
          "height": 265
        },
        "id": "LSoT_dDALFQd",
        "outputId": "1d97cc12-598c-4438-c0f3-5b7838756d64"
      },
      "execution_count": 17,
      "outputs": [
        {
          "output_type": "display_data",
          "data": {
            "text/plain": [
              "<Figure size 432x288 with 1 Axes>"
            ],
            "image/png": "[encoded data removed]"
          },
          "metadata": {
            "needs_background": "light"
          }
        }
      ]
    },
    {
      "cell_type": "markdown",
      "source": [
        "This *does* seem to indicate that Side A tracks are in general better than Side B tracks. Now, we can do a one-sided t-test to see if ratings on Side B have a statistically significant lower mean than ratings on Side A."
      ],
      "metadata": {
        "id": "2zB59jDrM8_h"
      }
    },
    {
      "cell_type": "code",
      "source": [
        "stats.ttest_ind(df[df.album_side == 'A'].rating,\n",
        "                df[df.album_side == 'B'].rating)"
      ],
      "metadata": {
        "colab": {
          "base_uri": "https://localhost:8080/"
        },
        "id": "_si4roeAIHQb",
        "outputId": "6dda7ef9-56bc-4c68-dabf-5e8b6be9ce9a"
      },
      "execution_count": 18,
      "outputs": [
        {
          "output_type": "execute_result",
          "data": {
            "text/plain": [
              "Ttest_indResult(statistic=1.7762539181748624, pvalue=0.08037106353038971)"
            ]
          },
          "metadata": {},
          "execution_count": 18
        }
      ]
    },
    {
      "cell_type": "markdown",
      "source": [
        "This p-value is interesting, since it is not significant at 5% for a two-sided test, but *is* significant at 5% for the one-sided test for whether Side B is worse than Side A."
      ],
      "metadata": {
        "id": "El2UF-xBKLj3"
      }
    }
  ]
}